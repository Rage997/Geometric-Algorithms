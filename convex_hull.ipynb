{
 "cells": [
  {
   "cell_type": "code",
   "execution_count": 15,
   "metadata": {},
   "outputs": [],
   "source": [
    "import numpy as np\n",
    "import matplotlib.pyplot as plt"
   ]
  },
  {
   "cell_type": "code",
   "execution_count": 14,
   "metadata": {},
   "outputs": [
    {
     "data": {
      "text/plain": [
       "Text(0.5, 1.0, 'Random points')"
      ]
     },
     "execution_count": 14,
     "metadata": {},
     "output_type": "execute_result"
    },
    {
     "data": {
      "image/png": "[encoded data removed]",
      "text/plain": [
       "<Figure size 432x288 with 1 Axes>"
      ]
     },
     "metadata": {
      "needs_background": "light"
     },
     "output_type": "display_data"
    }
   ],
   "source": [
    "n = 25 # number of points\n",
    "np.random.seed(6)\n",
    "points = np.random.rand(n, 2) * 10\n",
    "# print(points)\n",
    "plt.scatter(points[:, 0], points[:, 1])\n",
    "plt.xlim([-0.5, 10.5])\n",
    "plt.ylim([-0.5, 10.5])\n",
    "plt.title('Random points')"
   ]
  },
  {
   "cell_type": "markdown",
   "metadata": {},
   "source": [
    "# Grahman scan\n",
    "\n",
    "A nice property of convex hulls is that given a pair of points $p_0$ and $p_1$ all the remaining points in the convex hull are either on the left or right of the line spanned by these two points. In other words:\n",
    "\n",
    "$$ p_1 - p_0 \\times p - p_0 \\quad \\textrm{is either positive or negative} \\quad \\forall p \\in convex$$\n",
    "\n",
    "We can use this property to build the convex hull iteratively."
   ]
  },
  {
   "cell_type": "code",
   "execution_count": 23,
   "metadata": {},
   "outputs": [
    {
     "name": "stdout",
     "output_type": "stream",
     "text": [
      "7\n"
     ]
    }
   ],
   "source": [
    "def orientation_test(p_0, p_1, p_2):\n",
    "    '''Return < 0 if clockwise, > 0 if counterclockwise and 0 if co-linear.'''\n",
    "    \n",
    "    # return (p_1[1] - p_0[1]) * (p_2[0] - p_1[0]) - (p_1[0] - p_0[0]) * (p_2[1] - p_1[1])\n",
    "    return np.cross(p_1 - p_0, p_2 - p_0)\n",
    "\n",
    "p1 = np.array([1, 0])\n",
    "p2 = np.array([2, 3])\n",
    "p3 = np.array([-1, 1])\n",
    "\n",
    "print(orientation_test(p1, p2, p3))"
   ]
  },
  {
   "cell_type": "markdown",
   "metadata": {},
   "source": [
    "Then to compute the Convex hull we first get the anchor point i.e. the point with the lowest y-coordinate. Then we sort the points on the polar coordinates of this point.\n",
    "\n",
    "Then, we start from the first (sorted) pair of points and check the wheter the cross product of the segments $\\bar{p_0p_1}$ $\\bar{p_0p_2}$ is positive (or negative?). It should be clear that if p_2 belongs to the conve hull then this product should be negative."
   ]
  },
  {
   "cell_type": "code",
   "execution_count": 28,
   "metadata": {},
   "outputs": [
    {
     "data": {
      "image/png": "[encoded data removed]",
      "text/plain": [
       "<Figure size 432x288 with 1 Axes>"
      ]
     },
     "metadata": {
      "needs_background": "light"
     },
     "output_type": "display_data"
    }
   ],
   "source": [
    "anchor_point = points[0] # the point with lowest y-coordinate\n",
    "for p in points:\n",
    "    if p[1] < anchor_point[1]:\n",
    "        anchor_point = p\n",
    "    elif p[1] == anchor_point[1] and p[0] < anchor_point[0]:\n",
    "        anchor_point = p\n",
    "\n",
    "\n",
    "from math import atan2\n",
    "\n",
    "def polar_angle(p0, p1):\n",
    "    y_span=p0[1]-p1[1]\n",
    "    x_span=p0[0]-p1[0]\n",
    "    return atan2(y_span,x_span)\n",
    "\n",
    "# compute polar angles\n",
    "points_angles = []\n",
    "origin = [0,0]\n",
    "for p in points:\n",
    "    angle = polar_angle(anchor_point, p)\n",
    "    points_angles.append(angle)\n",
    "\n",
    "# sort the points by polar coordinate\n",
    "points_angles = np.array(points_angles)\n",
    "index = points_angles.argsort()  \n",
    "sorted_points = points[index]\n",
    "\n",
    "fig, ax = plt.subplots()\n",
    "ax.scatter(points[:,0], points[:,1])\n",
    "# ax.scatter(sorted_points[:1,0], sorted_points[:1,1], c='g')\n",
    "for idx, p in enumerate(sorted_points):\n",
    "    ax.annotate(idx, p)"
   ]
  },
  {
   "cell_type": "code",
   "execution_count": 31,
   "metadata": {},
   "outputs": [
    {
     "name": "stdout",
     "output_type": "stream",
     "text": [
      "The convex hull containts 7 vertices.\n"
     ]
    }
   ],
   "source": [
    "def sort_by_x_axis(points: np.array):\n",
    "    '''Sort by x-coordinate'''\n",
    "    return points[points[:, 0].argsort()]\n",
    "\n",
    "\n",
    "sorted_points = sort_by_x_axis(points)\n",
    "\n",
    "\n",
    "# COMPUTE UPPER AND LOWER CH!!!!\n",
    "# Init the list representng the convex hull with the first 2 points\n",
    "ch = list( [ sorted_points[0], sorted_points[1] ] )\n",
    "for p in sorted_points[2:]:\n",
    "    while orientation_test(ch[-2], ch[-1], p) <= 0 and len(ch)>2:\n",
    "        ch.pop()\n",
    "    ch.append(p)\n",
    "\n",
    "ch = np.array(ch) # convert back to numpy array \n",
    "# print('The resulting convex hull is: \\n', ch)\n",
    "print('The convex hull containts {} vertices.'.format(len(ch)))\n"
   ]
  },
  {
   "cell_type": "code",
   "execution_count": 32,
   "metadata": {},
   "outputs": [
    {
     "data": {
      "text/plain": [
       "Text(0.5, 1.0, 'Convex hull')"
      ]
     },
     "execution_count": 32,
     "metadata": {},
     "output_type": "execute_result"
    },
    {
     "data": {
      "image/png": "[encoded data removed]",
      "text/plain": [
       "<Figure size 432x288 with 1 Axes>"
      ]
     },
     "metadata": {
      "needs_background": "light"
     },
     "output_type": "display_data"
    }
   ],
   "source": [
    "for i in range(len(ch)): # plot convex hull\n",
    "    if i == len(ch)-1:\n",
    "        xx = [ch[i][0], ch[0][0]]\n",
    "        yy = [ch[i][1], ch[0][1]]\n",
    "    else:\n",
    "        xx = [ch[i][0], ch[i+1][0]]\n",
    "        yy = [ch[i][1], ch[i+1][1]]\n",
    "    plt.plot(xx, yy, 'r', lw=1)\n",
    "\n",
    "plt.scatter(points[:, 0], points[:, 1], zorder=0)\n",
    "plt.xlim([0, 10])\n",
    "plt.ylim([0, 10])\n",
    "plt.title('Convex hull')"
   ]
  },
  {
   "cell_type": "markdown",
   "metadata": {},
   "source": [
    "# Complexity analysis of Grahman Scan\n",
    "\n",
    "Good! How long does it take to compute the convex hull?\n",
    "\n",
    "1. Sorting the points: $\\mathcal{O}(nlogn)$\n",
    "2. iterate through the points: $\\mathcal{O}(n)$\n",
    "3. \n",
    "\n",
    "Therefore the total complexity is $\\mathcal{O}(nlogn)$. Can we do better than $\\mathcal{O}(nlogn)$? As instance, can we solve the problem in $\\mathcal{O}(n)$?\n",
    "\n",
    "Short answer: No, you can't.\n",
    "\n",
    "Long answer: if you could solve the problem of computing a convex hull in $\\mathcal{O}(n)$ you would contradict  (FORGOT NAME THEOREM)\n",
    "\n",
    "\n",
    "TODO check this and update regardig $\\Omega(n)$"
   ]
  },
  {
   "cell_type": "code",
   "execution_count": null,
   "metadata": {},
   "outputs": [],
   "source": []
  }
 ],
 "metadata": {
  "kernelspec": {
   "display_name": "Python 3",
   "language": "python",
   "name": "python3"
  },
  "language_info": {
   "codemirror_mode": {
    "name": "ipython",
    "version": 3
   },
   "file_extension": ".py",
   "mimetype": "text/x-python",
   "name": "python",
   "nbconvert_exporter": "python",
   "pygments_lexer": "ipython3",
   "version": "3.9.2"
  }
 },
 "nbformat": 4,
 "nbformat_minor": 2
}
